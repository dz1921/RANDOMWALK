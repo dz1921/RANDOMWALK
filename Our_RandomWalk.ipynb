{
 "cells": [
  {
   "cell_type": "markdown",
   "id": "69e70c26",
   "metadata": {},
   "source": [
    "This defines the functions it will use for computing and creates the \n",
    "tumble as 2 vectors and a tumble time. "
   ]
  },
  {
   "cell_type": "code",
   "execution_count": 18,
   "id": "78457b05",
   "metadata": {},
   "outputs": [],
   "source": [
    "import numpy as np\n",
    "import matplotlib.pyplot as plt\n",
    "import math\n",
    "from matplotlib import colors\n",
    "from matplotlib import patches\n",
    "#import colorspace\n",
    "\n",
    "SEED = 1024  #Any random seed\n",
    "np.random.seed(SEED)\n",
    "\n",
    "#Constants for E.coli tumbling\n",
    "tumble_time_mu = 0.1\n",
    "\n",
    "#E.coli movement constants\n",
    "speed = 20         #um/s, speed of E.coli movement\n",
    "response_time = 0.5 #Able to respond every 0.5 second\n",
    "\n",
    "#Model constants\n",
    "start = [0, 0]  #All cells start at [0, 0]\n",
    "ligand_center = [1500, 1500] #Position of highest concentration\n",
    "center_exponent, start_exponent = 8, 2 ## THIS MAKES GRADIENT DISPLAY \n",
    "origin_to_center = 0 #Distance from start to center, intialized here, will be actually calculated later\n",
    "saturation_conc = 10 ** 8 #From BNG model\n",
    "\n",
    "# Calculates Euclidean distance between point a and b\n",
    "def euclidean_distance(a, b):\n",
    "    return math.sqrt((a[0] - b[0]) ** 2 + (a[1] - b[1]) ** 2)\n",
    "\n",
    "# Exponential gradient, the exponent follows a linear relationship with distance to center\n",
    "def calc_concentration(pos):\n",
    "    dist = euclidean_distance(pos, ligand_center)\n",
    "    exponent = (1 - dist / origin_to_center) * (center_exponent - start_exponent) + start_exponent\n",
    "    if exponent < 5:\n",
    "        return np.power(10, exponent),exponent\n",
    "    else:\n",
    "        return np.power(10, 6),exponent\n",
    "\n",
    "# Samples the new direction and time of a tumble\n",
    "# Calculates projection on the Horizontal and Vertical direction for the next move\n",
    "# No input\n",
    "# Return the horizontal movement projection (float), the vertical one (float), tumble time (float)\n",
    "def tumble_move():\n",
    "    #Sample the new direction unformly from 0 to 2pi, record as a float\n",
    "    new_dir = np.random.uniform(low = 0.0, high = 2 * math.pi)\n",
    "        \n",
    "    projection_h = math.cos(new_dir) #displacement projected on Horizontal direction for next run, float\n",
    "    projection_v = math.sin(new_dir) #displacement projected on Vertical direction for next run, float\n",
    "    \n",
    "    #Length of the tumbling sampled from exponential distribution with mean=0.1, float\n",
    "    tumble_time = np.random.exponential(tumble_time_mu)\n",
    "    \n",
    "    return projection_h, projection_v, tumble_time"
   ]
  },
  {
   "cell_type": "code",
   "execution_count": null,
   "id": "72ffb104",
   "metadata": {},
   "outputs": [],
   "source": []
  },
  {
   "cell_type": "markdown",
   "id": "549ac730",
   "metadata": {},
   "source": [
    "this is the pure random walk but it looks kinda jumpy vs the code they used for the chemotactic so i am going to \n",
    "change the chemotactic one"
   ]
  },
  {
   "cell_type": "code",
   "execution_count": 19,
   "id": "ddc5acc9",
   "metadata": {},
   "outputs": [],
   "source": [
    "def simulate_std_random(num_cells, duration, run_time_expected):\n",
    "    \n",
    "    #Takes the shape (num_cells, duration+1, 2)\n",
    "    #any point [x,y] on the simulated trajectories can be accessed via paths[cell, time]\n",
    "    paths = np.zeros((num_cells, duration + 1, 2))\n",
    "\n",
    "    for rep in range(num_cells):\n",
    "        # Initialize simulation\n",
    "        t = 0 #record the time elapse\n",
    "        curr_position = np.array(start) #start at [0, 0] ???\n",
    "        projection_h, projection_v, tumble_time = tumble_move() #Initialize direction randomly\n",
    "        past_sec = 0\n",
    "\n",
    "        while t < duration:\n",
    "            \n",
    "            #run\n",
    "            curr_run_time = np.random.exponential(run_time_expected) #get run duration, float\n",
    "            #displacement on either direction is calculated as the projection * speed * time\n",
    "            #update current position by summing old position and displacement\n",
    "            curr_position = curr_position + np.array([projection_h, projection_v]) * speed * curr_run_time\n",
    "            \n",
    "            #tumble\n",
    "            projection_h, projection_v, tumble_time = tumble_move()\n",
    "            \n",
    "            #increment time\n",
    "            t += (curr_run_time + tumble_time)\n",
    "\n",
    "            #record position approximate for integer number of second\n",
    "            curr_sec = int(t)\n",
    "            for sec in range(past_sec, min(curr_sec, duration) + 1):\n",
    "                #fill values from last time point to current time point\n",
    "                paths[rep, sec] = curr_position.copy()\n",
    "                past_sec= curr_sec\n",
    "    \n",
    "    return paths"
   ]
  },
  {
   "cell_type": "markdown",
   "id": "835e6ea3",
   "metadata": {},
   "source": [
    "This is me trying to figure out the chemotactic gradient\n",
    "Part 1) adjusts run duration in some way I am not too sure but its then\n",
    "fed into the gradient, I need to see if when i dont change concentration this new function still has an impact on trajectory\n",
    "Concentrations are set according to model at the top of code\n",
    "\n",
    "I think it worked well, previously i didnt change run duration so I am going to try to edit it to just include the exponential sampling and get rid of concentration params in the actial chemo simulator \n",
    "\n",
    "Got rid of all concentratation dependent operations, sampling from\n",
    "exponential dist w run_time_expected seems to be the way to go to get\n",
    "the cells to follow a patern in their random walk "
   ]
  },
  {
   "cell_type": "code",
   "execution_count": 20,
   "id": "78c77dc8",
   "metadata": {},
   "outputs": [],
   "source": [
    "# Calculate the wait time for next tumbling event\n",
    "# Input: current concentration (float), past concentration (float), position (array [x, y]), expected run time (float)\n",
    "# Return: duration of current run (float)\n",
    "## CHANGED PARAMS OF FUNC\n",
    "def run_duration(curr_conc, past_conc, position,run_time_expected):\n",
    "        \n",
    "    curr_conc = min(curr_conc, saturation_conc) #Can't detect higher concentration if receptors saturates\n",
    "    past_conc = min(past_conc, saturation_conc)\n",
    "    change = (past_conc - curr_conc) / (curr_conc+0.0001) #proportion change in concentration, float\n",
    "    ### SWITCHED PAST AND CURR IN NUMERATOR OF CHANGE AROUND AND NOW IT IS REPPELED BY CONC \n",
    "    run_time_expected_adj_conc = run_time_expected * (1 + 10 * change) #adjust based on concentration change, float\n",
    "    \n",
    "    if run_time_expected_adj_conc < 0.000001:\n",
    "        run_time_expected_adj_conc = 0.000001 #positive wait times\n",
    "    elif run_time_expected_adj_conc > 4 * run_time_expected:\n",
    "        run_time_expected_adj_conc = 4 * run_time_expected     #the decrease to tumbling frequency is only to a certain extent\n",
    "    #Sample the duration of current run from exponential distribution, mean=run_time_expected_adj_conc\n",
    "    curr_run_time = np.random.exponential(run_time_expected_adj_conc)\n",
    "    \n",
    "    return curr_run_time"
   ]
  },
  {
   "cell_type": "code",
   "execution_count": 21,
   "id": "d0998140",
   "metadata": {},
   "outputs": [],
   "source": [
    "# This function performs simulation\n",
    "# Input: number of cells to simulate (int), how many seconds (int), the expected run time before tumble (float)\n",
    "# Return: the simulated trajectories paths: array of shape (num_cells, duration+1, 2)\n",
    "def simulate_chemotaxis(num_cells, duration, run_time_expected):\n",
    "    \n",
    "    #Takes the shape (num_cells, duration+1, 2)\n",
    "    #any point [x,y] on the simulated trajectories can be accessed via paths[cell, time]\n",
    "    paths = np.zeros((num_cells, duration + 1, 2))\n",
    "\n",
    "    for rep in range(num_cells):\n",
    "        # Initialize simulation\n",
    "        t = 0 #record the time elapse\n",
    "        curr_position = np.array(start) #start at [0, 0]\n",
    "        past_conc = calc_concentration(start)[0] # Conc currently 1\n",
    "        projection_h, projection_v, tumble_time = tumble_move() #Initialize direction randomly\n",
    "\n",
    "        while t < duration:\n",
    "            curr_conc = calc_concentration(curr_position)[0]\n",
    "\n",
    "            curr_run_time = run_duration(curr_conc, past_conc, curr_position, run_time_expected) #get run duration, float\n",
    "\n",
    "            # if run time (r) is within the step (s), run for r second and then tumble\n",
    "            if curr_run_time < response_time: \n",
    "                #displacement on either direction is calculated as the projection * speed * time\n",
    "                #update current position by summing old position and displacement\n",
    "                curr_position = curr_position + np.array([projection_h, projection_v]) * speed * curr_run_time\n",
    "                projection_h, projection_v, tumble_time = tumble_move() #tumble\n",
    "                t += (curr_run_time + tumble_time) #increment time\n",
    "\n",
    "            # if r > s, run for r; then it will be in the next iteration\n",
    "            else:\n",
    "                #displacement on either direction is calculated as the projection * speed * time\n",
    "                #update current position by summing old position and displacement\n",
    "                curr_position = curr_position + np.array([projection_h, projection_v]) * speed * response_time\n",
    "                t += response_time #no tumble here\n",
    "\n",
    "            #record position approximate for integer number of second\n",
    "            curr_sec = int(t)\n",
    "            if curr_sec <= duration:\n",
    "                #fill values from last time point to current time point\n",
    "                paths[rep, curr_sec] = curr_position.copy()\n",
    "                past_conc = curr_conc\n",
    "    \n",
    "    return paths"
   ]
  },
  {
   "cell_type": "code",
   "execution_count": 24,
   "id": "00401a3e",
   "metadata": {},
   "outputs": [],
   "source": [
    "## run_time_expected: Run. The duration of a cell’s run follows an exponential distribution \n",
    "#with mean equal to the background run duration run_time_expected.\n",
    "duration = 800   #seconds, duration of the simulation\n",
    "num_cells = 3\n",
    "run_time_expected = 1.0\n",
    "origin_to_center = euclidean_distance(start,ligand_center) #Update the global constant so we dont get division by 0\n",
    "\n",
    "#make an array cos i cant be asked to change plotting set up \n",
    "paths_chem =  simulate_chemotaxis(num_cells, duration, run_time_expected)\n",
    "paths_rand = simulate_std_random(num_cells, duration, run_time_expected)\n",
    "paths = np.array([paths_rand, paths_chem])\n"
   ]
  },
  {
   "cell_type": "code",
   "execution_count": 25,
   "id": "7ea8b470",
   "metadata": {},
   "outputs": [
    {
     "ename": "ValueError",
     "evalue": "math domain error",
     "output_type": "error",
     "traceback": [
      "\u001b[0;31m---------------------------------------------------------------------------\u001b[0m",
      "\u001b[0;31mValueError\u001b[0m                                Traceback (most recent call last)",
      "Cell \u001b[0;32mIn[25], line 17\u001b[0m\n\u001b[1;32m     15\u001b[0m \u001b[38;5;28;01mfor\u001b[39;00m i \u001b[38;5;129;01min\u001b[39;00m \u001b[38;5;28mrange\u001b[39m(\u001b[38;5;241m4000\u001b[39m):\n\u001b[1;32m     16\u001b[0m     \u001b[38;5;28;01mfor\u001b[39;00m j \u001b[38;5;129;01min\u001b[39;00m \u001b[38;5;28mrange\u001b[39m(\u001b[38;5;241m4000\u001b[39m):\n\u001b[0;32m---> 17\u001b[0m         conc_matrix[i][j] \u001b[38;5;241m=\u001b[39m math\u001b[38;5;241m.\u001b[39mlog(calc_concentration([i \u001b[38;5;241m-\u001b[39m \u001b[38;5;241m1000\u001b[39m, j \u001b[38;5;241m-\u001b[39m \u001b[38;5;241m1000\u001b[39m]))\n\u001b[1;32m     18\u001b[0m \u001b[38;5;66;03m##WORKS UP TO HERE\u001b[39;00m\n\u001b[1;32m     19\u001b[0m \u001b[38;5;66;03m#Repeat for the two strategies\u001b[39;00m\n\u001b[1;32m     20\u001b[0m \u001b[38;5;28;01mfor\u001b[39;00m m \u001b[38;5;129;01min\u001b[39;00m \u001b[38;5;28mrange\u001b[39m(\u001b[38;5;241m2\u001b[39m):\n\u001b[1;32m     21\u001b[0m     \u001b[38;5;66;03m#Simulate the gradient distribution, plot as a heatmap\u001b[39;00m\n",
      "\u001b[0;31mValueError\u001b[0m: math domain error"
     ]
    },
    {
     "data": {
      "image/png": "[encoded data removed]",
      "text/plain": [
       "<Figure size 1600x800 with 2 Axes>"
      ]
     },
     "metadata": {},
     "output_type": "display_data"
    }
   ],
   "source": [
    "## Plotting THIS IS MY OG CODE\n",
    "#Below are all for plotting purposes\n",
    "methods = [\"Pure random walk\", \"More accurate random walk\"]\n",
    "fig, ax = plt.subplots(1, 2, figsize = (16, 8)) #1*2 subplots, size 16*8\n",
    "\n",
    "#First set color map\n",
    "mycolor = [[256, 256, 256], [256, 255, 254], [256, 253, 250], [256, 250, 240], [255, 236, 209], [255, 218, 185], [251, 196, 171], [248, 173, 157], [244, 151, 142], [240, 128, 128]] #from coolors：）\n",
    "for i in mycolor:\n",
    "    for j in range(len(i)):\n",
    "        i[j] *= (1/256)\n",
    "cmap_color = colors.LinearSegmentedColormap.from_list('my_list', mycolor) #Linearly segment these colors to create a continuous color map\n",
    "\n",
    "#Store the concentrations for each integer position in a matrix\n",
    "conc_matrix = np.zeros((4000, 4000)) #we will display from [-1000, -1000] to [3000, 3000]\n",
    "for i in range(4000):\n",
    "    for j in range(4000):\n",
    "         conc_matrix[i][j] = calc_concentration([i - 1000, j - 1000])[1]*math.log(10)\n",
    "##WORKS UP TO HERE\n",
    "#Repeat for the two strategies\n",
    "for m in range(2):\n",
    "    #Simulate the gradient distribution, plot as a heatmap\n",
    "    ax[m].imshow(conc_matrix.T, cmap=cmap_color, interpolation='nearest', extent = [-1000, 3000, -1000, 3000], origin = 'lower')\n",
    "\n",
    "    #Plot simulation results\n",
    "    time_frac = 1.0 / duration\n",
    "    #Plot the trajectories. Time progress: dark -> colorful\n",
    "    for t in range(duration):\n",
    "        ax[m].plot(paths[m,0,t,0], paths[m,0,t,1], 'o', markersize = 1, color = (0.2 * time_frac * t, 0.85 * time_frac * t, 0.8 * time_frac * t))\n",
    "        ax[m].plot(paths[m,1,t,0], paths[m,1,t,1], 'o', markersize = 1, color = (0.85 * time_frac * t, 0.2 * time_frac * t, 0.9 * time_frac * t))\n",
    "        ax[m].plot(paths[m,2,t,0], paths[m,2,t,1], 'o', markersize = 1, color = (0.4 * time_frac * t, 0.85 * time_frac * t, 0.1 * time_frac * t))\n",
    "    ax[m].plot(start[0], start[1], 'ko', markersize = 8) #Mark the starting point [0, 0]\n",
    "    for i in range(num_cells):\n",
    "        ax[m].plot(paths[m,i,-1,0], paths[m,i,-1,1], 'ro', markersize = 8) #Mark the terminal points for each cell\n",
    "    #ax[m].plot(1500, 1500, 'bX', markersize = 8) #Mark the highest concentration point [1500, 1500]\n",
    "\n",
    "    ax[m].set_title(\"{}\\n Average tumble every 1 s\".format(methods[m]), x = 0.5, y = 0.87)\n",
    "    ax[m].set_xlim(-1000, 3000)\n",
    "    ax[m].set_ylim(-1000, 3000)\n",
    "    ax[m].set_xlabel(\"poisiton in μm\")\n",
    "    ax[m].set_ylabel(\"poisiton in μm\")\n",
    "\n",
    "fig.tight_layout()\n",
    "\n",
    "plt.show()"
   ]
  },
  {
   "cell_type": "code",
   "execution_count": null,
   "id": "2ac35c40",
   "metadata": {},
   "outputs": [],
   "source": []
  },
  {
   "cell_type": "code",
   "execution_count": 17,
   "id": "a9c5135c",
   "metadata": {},
   "outputs": [
    {
     "data": {
      "text/plain": [
       "1000000"
      ]
     },
     "execution_count": 17,
     "metadata": {},
     "output_type": "execute_result"
    }
   ],
   "source": [
    "calc_concentration(start)"
   ]
  },
  {
   "cell_type": "code",
   "execution_count": null,
   "id": "9084cf19",
   "metadata": {},
   "outputs": [],
   "source": [
    "curr_position = np.array(start)\n",
    "calc_concentration(curr_position)"
   ]
  },
  {
   "cell_type": "code",
   "execution_count": null,
   "id": "852a28d1",
   "metadata": {},
   "outputs": [],
   "source": []
  },
  {
   "cell_type": "code",
   "execution_count": null,
   "id": "6674f2c8",
   "metadata": {},
   "outputs": [],
   "source": []
  },
  {
   "cell_type": "code",
   "execution_count": null,
   "id": "bca26de1",
   "metadata": {},
   "outputs": [],
   "source": []
  }
 ],
 "metadata": {
  "kernelspec": {
   "display_name": "Python 3 (ipykernel)",
   "language": "python",
   "name": "python3"
  },
  "language_info": {
   "codemirror_mode": {
    "name": "ipython",
    "version": 3
   },
   "file_extension": ".py",
   "mimetype": "text/x-python",
   "name": "python",
   "nbconvert_exporter": "python",
   "pygments_lexer": "ipython3",
   "version": "3.11.5"
  }
 },
 "nbformat": 4,
 "nbformat_minor": 5
}
